{
 "cells": [
  {
   "cell_type": "markdown",
   "metadata": {},
   "source": [
    "# This notebook is a case study for parallelization in python"
   ]
  },
  {
   "cell_type": "markdown",
   "metadata": {},
   "source": [
    "First, we define a slow function, which we want to loop over and a list with values to execute the function for:"
   ]
  },
  {
   "cell_type": "code",
   "execution_count": 1,
   "metadata": {},
   "outputs": [],
   "source": [
    "import numpy as np\n",
    "from time import sleep\n",
    "import time\n",
    "\n",
    "def slowfunc(x):\n",
    "    sleep(1)  # Wait 1 second\n",
    "    return x**2  # Return x^2\n",
    "\n",
    "vals = np.linspace(0, 100, 101)  # List with values between 0 and 100 to square"
   ]
  },
  {
   "cell_type": "markdown",
   "metadata": {},
   "source": [
    "Next, let us use regular list comprehension to calcualte the results of slowfunc(vals) in a sequential manner:"
   ]
  },
  {
   "cell_type": "code",
   "execution_count": 2,
   "metadata": {},
   "outputs": [
    {
     "name": "stdout",
     "output_type": "stream",
     "text": [
      "00:01:41\n"
     ]
    }
   ],
   "source": [
    "st = time.time()  # Get starting time\n",
    "results_seq = [slowfunc(i) for i in vals]  # Perform calculation loop\n",
    "runtime = time.time() - st  # Get runtime\n",
    "print(time.strftime(\"%H:%M:%S\", time.gmtime(runtime)))\n"
   ]
  },
  {
   "cell_type": "markdown",
   "metadata": {},
   "source": [
    "This takes around 101s (sleep time plus 1s overhead from the actual calculation). Let us now try to use parallelization to reduce the runtime.\n",
    "\n",
    "First, we use the joblib library:"
   ]
  },
  {
   "cell_type": "code",
   "execution_count": 3,
   "metadata": {},
   "outputs": [
    {
     "name": "stderr",
     "output_type": "stream",
     "text": [
      "[Parallel(n_jobs=8)]: Using backend LokyBackend with 8 concurrent workers.\n",
      "[Parallel(n_jobs=8)]: Done   2 tasks      | elapsed:    4.4s\n",
      "[Parallel(n_jobs=8)]: Done  56 tasks      | elapsed:   10.5s\n",
      "[Parallel(n_jobs=8)]: Done 101 out of 101 | elapsed:   16.5s finished\n"
     ]
    },
    {
     "name": "stdout",
     "output_type": "stream",
     "text": [
      "00:00:16\n"
     ]
    }
   ],
   "source": [
    "import joblib\n",
    "from joblib import delayed, Parallel\n",
    "\n",
    "number_of_cpu = joblib.cpu_count()  # get number of available cores\n",
    "\n",
    "delayed_funcs = [delayed(slowfunc)(i) for i in vals]  # Define action to be parallelized\n",
    "parallel_pool = Parallel(n_jobs=number_of_cpu, verbose=5)  # Define parallel pool, default settings\n",
    "# Note: The verbose parameter defines if progress reports are printed duting the calculations\n",
    "\n",
    "st = time.time()  # Get starting time\n",
    "results_joblib = parallel_pool(delayed_funcs)  # Perform calculation\n",
    "runtime = time.time() - st  # Get runtime\n",
    "sleep(0.5)\n",
    "print(time.strftime(\"%H:%M:%S\", time.gmtime(runtime)))"
   ]
  },
  {
   "cell_type": "markdown",
   "metadata": {},
   "source": [
    "We have been able to reduce to reduce the total runtime of the loop down to 16s using 8 cores. Let us now check if the results match:"
   ]
  },
  {
   "cell_type": "code",
   "execution_count": 4,
   "metadata": {},
   "outputs": [
    {
     "data": {
      "image/png": "[encoded data removed]",
      "text/plain": [
       "<Figure size 360x108 with 1 Axes>"
      ]
     },
     "metadata": {
      "needs_background": "light"
     },
     "output_type": "display_data"
    }
   ],
   "source": [
    "import matplotlib.pyplot as plt\n",
    "\n",
    "# Subtract the two result lists, should be 0 for all values:\n",
    "test = np.asarray(results_seq)-np.asarray(results_joblib)\n",
    "\n",
    "# Visualize test results:\n",
    "plt.figure(figsize=(5,1.5))\n",
    "plt.plot(test)\n",
    "plt.xlabel('index')\n",
    "plt.ylabel('error')\n",
    "plt.show()"
   ]
  },
  {
   "cell_type": "markdown",
   "metadata": {},
   "source": [
    "We find the results to be in the correct order.\n",
    "\n",
    "The default backend for joblib is 'loky'. Loky is based on multiprocessing and thus uses separate cores. Different backend options include 'multiprocessing' or 'threading'. Here, it should be noted that 'threading' is fundamentally different from 'loky' and 'multiprocessing' as it is a multithreading based approach.\n",
    "\n",
    "To visualize that, let us compare the runtime of the 'loky' and 'threading' backends:"
   ]
  },
  {
   "cell_type": "code",
   "execution_count": 5,
   "metadata": {},
   "outputs": [
    {
     "name": "stderr",
     "output_type": "stream",
     "text": [
      "[Parallel(n_jobs=-1)]: Using backend LokyBackend with 8 concurrent workers.\n",
      "[Parallel(n_jobs=-1)]: Done   2 tasks      | elapsed:    1.0s\n",
      "[Parallel(n_jobs=-1)]: Done  56 tasks      | elapsed:    7.2s\n",
      "[Parallel(n_jobs=-1)]: Done 101 out of 101 | elapsed:   13.1s finished\n"
     ]
    },
    {
     "name": "stdout",
     "output_type": "stream",
     "text": [
      "loky runtime: 00:00:13\n"
     ]
    },
    {
     "name": "stderr",
     "output_type": "stream",
     "text": [
      "[Parallel(n_jobs=-1)]: Using backend ThreadingBackend with 8 concurrent workers.\n",
      "[Parallel(n_jobs=-1)]: Done   2 tasks      | elapsed:    1.0s\n",
      "[Parallel(n_jobs=-1)]: Done  56 tasks      | elapsed:    7.0s\n",
      "[Parallel(n_jobs=-1)]: Done 101 out of 101 | elapsed:   13.0s finished\n"
     ]
    },
    {
     "name": "stdout",
     "output_type": "stream",
     "text": [
      "threading runtime: 00:00:13\n"
     ]
    }
   ],
   "source": [
    "# Let us begin with the default backend, loky:\n",
    "delayed_funcs = [delayed(slowfunc)(i) for i in vals]  # Define action to be parallelized\n",
    "st = time.time()  # Get starting time\n",
    "results_joblib = Parallel(n_jobs=-1, verbose=5, backend='loky')(delayed_funcs)  # Run calculation\n",
    "runtime = time.time() - st  # Get runtime\n",
    "sleep(.5)  # Use short sleep time for clean output print\n",
    "print('loky runtime: {}'.format(time.strftime(\"%H:%M:%S\", time.gmtime(runtime))))\n",
    "\n",
    "\n",
    "# Next, we test multithreading:\n",
    "delayed_funcs = [delayed(slowfunc)(i) for i in vals]  # Define action to be parallelized\n",
    "st = time.time()  # Get starting time\n",
    "# Run calculation:\n",
    "results_joblib = Parallel(n_jobs=-1, verbose=5, backend='threading')(delayed_funcs)\n",
    "runtime = time.time() - st  # Get runtime\n",
    "sleep(.5)  # Use short sleep time for clean output print\n",
    "print('threading runtime: {}'.format(time.strftime(\"%H:%M:%S\", time.gmtime(runtime))))"
   ]
  },
  {
   "cell_type": "markdown",
   "metadata": {},
   "source": [
    "Interestingly, both cases result the same, reduced runtime, even though multithreading is no true form of parallelization. This may be a result of the 'slow' part of our process being a wait time and not CPU bound. As a consequence, our process is mostly I/O bound and benefits from multithreading.\n",
    "\n",
    "\n",
    "Another option makes use of the multiprocessing package instead of using the seemingly more convenient joblib wrapper. The multiprocessing package can be used to manually spawn and close new processes. In Jupyter notebook, however, this does not fully work, see [here](https://stackoverflow.com/questions/71098960/attributeerror-cant-get-attribute-starfield-solve-on-module-main-bui) for a workaround.\n",
    "\n",
    "The example below (should) work outside jupyter notebook/IPython. To make it work in jupyter, the function to be parallelized would need to be loaded in from an external module (a .py file). Because in the notebook this throws an error, we use if False to prevent the code from executing."
   ]
  },
  {
   "cell_type": "code",
   "execution_count": 6,
   "metadata": {},
   "outputs": [],
   "source": [
    "if False:\n",
    "    import multiprocessing as mp\n",
    "\n",
    "    pool = mp.Pool(mp.cpu_count())  # Get number of available cores\n",
    "    st = time.time()  # Get starting time\n",
    "    result_mp = pool.map(slowfunc, vals)  # Run calculation\n",
    "    runtime = time.time() - st  # Get runtime\n",
    "    print('multiprocessing runtime: {}'.format(time.strftime(\"%H:%M:%S\", time.gmtime(runtime))))\n",
    "\n"
   ]
  },
  {
   "cell_type": "markdown",
   "metadata": {},
   "source": [
    "Now let us return to joblib and try a more complex example.\n",
    "\n",
    "First, instead of parallelizing a loop containing a function, we introduce a class object:"
   ]
  },
  {
   "cell_type": "code",
   "execution_count": 7,
   "metadata": {},
   "outputs": [],
   "source": [
    "# We define a class that when initialized performs a slow operation:\n",
    "class SlowClass:\n",
    "    \"\"\" Takes a value, waits one second then squares it \"\"\"\n",
    "    result = []\n",
    "    def __init__(self, value):\n",
    "        sleep(1)\n",
    "        self.result = value**2"
   ]
  },
  {
   "cell_type": "markdown",
   "metadata": {},
   "source": [
    "Let us now try to reproduce the previous example using this class instead of a function:"
   ]
  },
  {
   "cell_type": "code",
   "execution_count": 8,
   "metadata": {},
   "outputs": [
    {
     "name": "stderr",
     "output_type": "stream",
     "text": [
      "[Parallel(n_jobs=-1)]: Using backend LokyBackend with 8 concurrent workers.\n",
      "[Parallel(n_jobs=-1)]: Done   2 tasks      | elapsed:    1.0s\n",
      "[Parallel(n_jobs=-1)]: Done  56 tasks      | elapsed:    7.2s\n",
      "[Parallel(n_jobs=-1)]: Done 101 out of 101 | elapsed:   13.1s finished\n"
     ]
    },
    {
     "name": "stdout",
     "output_type": "stream",
     "text": [
      "runtime: 00:00:13\n"
     ]
    },
    {
     "data": {
      "image/png": "[encoded data removed]",
      "text/plain": [
       "<Figure size 360x108 with 1 Axes>"
      ]
     },
     "metadata": {
      "needs_background": "light"
     },
     "output_type": "display_data"
    }
   ],
   "source": [
    "delayed_funcs = [delayed(SlowClass)(i) for i in vals]  # Define action to be parallelized\n",
    "st = time.time()  # Get starting time\n",
    "# Run calculation:\n",
    "result_objects = Parallel(n_jobs=-1, verbose=5)(delayed_funcs)\n",
    "runtime = time.time() - st  # Get runtime\n",
    "sleep(.5)  # Use short sleep time for clean output print\n",
    "print('runtime: {}'.format(time.strftime(\"%H:%M:%S\", time.gmtime(runtime))))\n",
    "\n",
    "# Now, from result_objects, we can construct an array with the results:\n",
    "results_class = [i.result for i in result_objects]\n",
    "test = np.asarray(results_seq) - np.asarray(results_class) \n",
    "\n",
    "# Visualize test results:\n",
    "plt.figure(figsize=(5,1.5))\n",
    "plt.plot(test)\n",
    "plt.xlabel('index')\n",
    "plt.ylabel('error')\n",
    "plt.show()\n"
   ]
  },
  {
   "cell_type": "markdown",
   "metadata": {},
   "source": [
    "Again, we get the desired result at essentially the same computation time comapred to usinf functions in the parallel process. \n",
    "\n",
    "Next, we will tackle a problem that can occur when QmeQ based fits to experimental data are considered: A class instance is first initialized and then certain parameters are updated in each iteration of the loop to be parallelized. Then, by using return values, we want to directly populate our results array with a function that inherits the class."
   ]
  },
  {
   "cell_type": "code",
   "execution_count": 9,
   "metadata": {},
   "outputs": [
    {
     "name": "stderr",
     "output_type": "stream",
     "text": [
      "[Parallel(n_jobs=-1)]: Using backend LokyBackend with 8 concurrent workers.\n",
      "[Parallel(n_jobs=-1)]: Done   2 tasks      | elapsed:    1.0s\n",
      "[Parallel(n_jobs=-1)]: Done  56 tasks      | elapsed:    7.2s\n",
      "[Parallel(n_jobs=-1)]: Done 101 out of 101 | elapsed:   13.1s finished\n"
     ]
    },
    {
     "name": "stdout",
     "output_type": "stream",
     "text": [
      "runtime: 00:00:13\n",
      "[0.0, 1.0, 2.0, 3.0, 4.0, 5.0, 6.0, 7.0, 8.0, 9.0, 10.0, 11.0, 12.0, 13.0, 14.0, 15.0, 16.0, 17.0, 18.0, 19.0, 20.0, 21.0, 22.0, 23.0, 24.0, 25.0, 26.0, 27.0, 28.0, 29.0, 30.0, 31.0, 32.0, 33.0, 34.0, 35.0, 36.0, 37.0, 38.0, 39.0, 40.0, 41.0, 42.0, 43.0, 44.0, 45.0, 46.0, 47.0, 48.0, 49.0, 50.0, 51.0, 52.0, 53.0, 54.0, 55.0, 56.0, 57.0, 58.0, 59.0, 60.0, 61.0, 62.0, 63.0, 64.0, 65.0, 66.0, 67.0, 68.0, 69.0, 70.0, 71.0, 72.0, 73.0, 74.0, 75.0, 76.0, 77.0, 78.0, 79.0, 80.0, 81.0, 82.0, 83.0, 84.0, 85.0, 86.0, 87.0, 88.0, 89.0, 90.0, 91.0, 92.0, 93.0, 94.0, 95.0, 96.0, 97.0, 98.0, 99.0, 100.0]\n"
     ]
    }
   ],
   "source": [
    "# Let's first redefine our class tot ake two inpiut variables:\n",
    "class SlowClass:\n",
    "    \"\"\" Takes a value, waits one second then squares it \"\"\"\n",
    "    def __init__(self, value, exponent):\n",
    "        sleep(1)\n",
    "        self.result = value**exponent\n",
    "\n",
    "# And now we once more run the calculation using joblib:\n",
    "delayed_funcs = [delayed(SlowClass)(i, 1) for i in vals]  # Define action to be parallelized\n",
    "st = time.time()  # Get starting time\n",
    "# Run calculation:\n",
    "result_objects = Parallel(n_jobs=-1, verbose=5)(delayed_funcs)\n",
    "runtime = time.time() - st  # Get runtime\n",
    "sleep(.5)  # Use short sleep time for clean output print\n",
    "print('runtime: {}'.format(time.strftime(\"%H:%M:%S\", time.gmtime(runtime))))\n",
    "\n",
    "# Now, from result_objects, we can construct an array with the results:\n",
    "results_class = [i.result for i in result_objects]\n",
    "print(results_class)"
   ]
  },
  {
   "cell_type": "markdown",
   "metadata": {},
   "source": [
    "Two input parameters cause no problem. \n",
    "\n",
    "Now, let us build a more complex example. We want to have the calculation itself encoded in a class. This class will have an attribute, which we want to access and change between different calculations. The class and calculation is to be embedded in a function.\n",
    "This example essentially mirrors how we use QmeQ to fit experimental data.\n"
   ]
  },
  {
   "cell_type": "code",
   "execution_count": 10,
   "metadata": {},
   "outputs": [],
   "source": [
    "# First, we define the class:\n",
    "class AdvancedSlowClass:\n",
    "    \"\"\"\n",
    "    Initialized with value and exponent. Result attribute = value^exponent\n",
    "    Exponent can be updayted with UpdateExp method\n",
    "    calculate method allows to calculate result for a given new value\n",
    "    \"\"\"\n",
    "    exponent = 2\n",
    "    def __init__(self, value, exp):\n",
    "        self.exponent = exp\n",
    "        sleep(1)\n",
    "        self.result = value**self.exponent\n",
    "    def UpdateExp(self, exp):\n",
    "        self.exponent = exp\n",
    "    def calculate(self, value):\n",
    "        sleep(1)\n",
    "        self.result = value**self.exponent\n",
    "\n",
    "# Initialize an instance of the class:\n",
    "Class_Instance = AdvancedSlowClass(0, 2)\n",
    "\n",
    "# Next, we want to write a function which takes the class instance and a value as input and returns the class attribute 'result':\n",
    "def ClassToValue(ClassInstance, value):\n",
    "    ClassInstance.calculate(value)\n",
    "    return ClassInstance.result\n"
   ]
  },
  {
   "cell_type": "markdown",
   "metadata": {},
   "source": [
    "Let us first run the code for our exemplary array in a sequential manner without parallel computation:"
   ]
  },
  {
   "cell_type": "code",
   "execution_count": 11,
   "metadata": {},
   "outputs": [
    {
     "name": "stdout",
     "output_type": "stream",
     "text": [
      "runtime: 00:01:41\n"
     ]
    },
    {
     "data": {
      "image/png": "[encoded data removed]",
      "text/plain": [
       "<Figure size 360x180 with 1 Axes>"
      ]
     },
     "metadata": {
      "needs_background": "light"
     },
     "output_type": "display_data"
    }
   ],
   "source": [
    "st = time.time()  # Get starting time\n",
    "results_seq_class = [ClassToValue(Class_Instance, i) for i in vals]\n",
    "runtime = time.time() - st  # Get runtime\n",
    "sleep(.5)  # Use short sleep time for clean output print\n",
    "print('runtime: {}'.format(time.strftime(\"%H:%M:%S\", time.gmtime(runtime))))\n",
    "\n",
    "# Check the results with a plot:\n",
    "plt.figure(figsize=(5,2.5))\n",
    "plt.plot(vals, results_seq_class)\n",
    "plt.show()"
   ]
  },
  {
   "cell_type": "markdown",
   "metadata": {},
   "source": [
    "Now, we speed up the calculation by using joblib to parallelize the same calculation. We attempt this for different values of exponents while maintaining the same class instance to test the capabilities of this approach:"
   ]
  },
  {
   "cell_type": "code",
   "execution_count": 12,
   "metadata": {},
   "outputs": [
    {
     "name": "stderr",
     "output_type": "stream",
     "text": [
      "[Parallel(n_jobs=-1)]: Using backend LokyBackend with 8 concurrent workers.\n",
      "[Parallel(n_jobs=-1)]: Done   2 tasks      | elapsed:    1.0s\n",
      "[Parallel(n_jobs=-1)]: Done  56 tasks      | elapsed:    7.2s\n",
      "[Parallel(n_jobs=-1)]: Done 101 out of 101 | elapsed:   13.1s finished\n"
     ]
    },
    {
     "name": "stdout",
     "output_type": "stream",
     "text": [
      "runtime: 00:00:13\n"
     ]
    },
    {
     "data": {
      "image/png": "[encoded data removed]",
      "text/plain": [
       "<Figure size 360x180 with 1 Axes>"
      ]
     },
     "metadata": {
      "needs_background": "light"
     },
     "output_type": "display_data"
    },
    {
     "name": "stderr",
     "output_type": "stream",
     "text": [
      "[Parallel(n_jobs=-1)]: Using backend LokyBackend with 8 concurrent workers.\n",
      "[Parallel(n_jobs=-1)]: Done   2 tasks      | elapsed:    1.0s\n",
      "[Parallel(n_jobs=-1)]: Done  56 tasks      | elapsed:    7.1s\n",
      "[Parallel(n_jobs=-1)]: Done 101 out of 101 | elapsed:   13.1s finished\n"
     ]
    },
    {
     "name": "stdout",
     "output_type": "stream",
     "text": [
      "runtime: 00:00:13\n"
     ]
    },
    {
     "data": {
      "image/png": "[encoded data removed]",
      "text/plain": [
       "<Figure size 360x180 with 1 Axes>"
      ]
     },
     "metadata": {
      "needs_background": "light"
     },
     "output_type": "display_data"
    }
   ],
   "source": [
    "# We start with exponent = 2. This is already set up from the previous calculation:\n",
    "delayed_funcs = [delayed(ClassToValue)(Class_Instance, i) for i in vals]  # Define action to be parallelized\n",
    "st = time.time()  # Get starting time\n",
    "# Run calculation:\n",
    "results = Parallel(n_jobs=-1, verbose=5)(delayed_funcs)\n",
    "runtime = time.time() - st  # Get runtime\n",
    "sleep(.5)  # Use short sleep time for clean output print\n",
    "print('runtime: {}'.format(time.strftime(\"%H:%M:%S\", time.gmtime(runtime))))\n",
    "\n",
    "# Check the results with a plot:\n",
    "plt.figure(figsize=(5,2.5))\n",
    "plt.plot(vals, results)\n",
    "plt.show()\n",
    "\n",
    "\n",
    "# Update exponent:\n",
    "Class_Instance.UpdateExp(4)\n",
    "# And repeat:\n",
    "# We start with exponent = 2. This is already set up from the previous calculation:\n",
    "delayed_funcs = [delayed(ClassToValue)(Class_Instance, i) for i in vals]  # Define action to be parallelized\n",
    "st = time.time()  # Get starting time\n",
    "# Run calculation:\n",
    "results = Parallel(n_jobs=-1, verbose=5)(delayed_funcs)\n",
    "runtime = time.time() - st  # Get runtime\n",
    "sleep(.5)  # Use short sleep time for clean output print\n",
    "print('runtime: {}'.format(time.strftime(\"%H:%M:%S\", time.gmtime(runtime))))\n",
    "\n",
    "# Check the results with a plot:\n",
    "plt.figure(figsize=(5,2.5))\n",
    "plt.plot(vals, results)\n",
    "plt.show()"
   ]
  },
  {
   "cell_type": "markdown",
   "metadata": {},
   "source": [
    "With this working, we have all the tools at hand to parallelize QmeQ fits as well as the noise analysis script."
   ]
  }
 ],
 "metadata": {
  "interpreter": {
   "hash": "122252f7f549c0769d1b624c65d78edb393ebbc0b475ecff9dabe7afd2e1505b"
  },
  "kernelspec": {
   "display_name": "Python 3.9.12 ('base')",
   "language": "python",
   "name": "python3"
  },
  "language_info": {
   "codemirror_mode": {
    "name": "ipython",
    "version": 3
   },
   "file_extension": ".py",
   "mimetype": "text/x-python",
   "name": "python",
   "nbconvert_exporter": "python",
   "pygments_lexer": "ipython3",
   "version": "3.9.12"
  },
  "orig_nbformat": 4
 },
 "nbformat": 4,
 "nbformat_minor": 2
}
